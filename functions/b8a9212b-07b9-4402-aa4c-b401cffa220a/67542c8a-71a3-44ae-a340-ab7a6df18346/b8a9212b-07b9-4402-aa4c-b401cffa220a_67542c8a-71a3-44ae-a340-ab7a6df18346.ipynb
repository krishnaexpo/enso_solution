{
 "cells": [
  {
   "cell_type": "code",
   "execution_count": 5,
   "metadata": {
    "tags": [
     "export"
    ]
   },
   "outputs": [],
   "source": [
    "from datetime import datetime\n",
    "import shutil\n",
    "from uuid import uuid4\n",
    "\n",
    "from xpms_file_storage.file_handler import LocalResource, XpmsResource\n",
    "from xpms_helper.executions.execution_variables import ExecutionVariables"
   ]
  },
  {
   "cell_type": "code",
   "execution_count": 15,
   "metadata": {
    "XpmsFunction_conf": {
     "export": true
    },
    "tags": [
     "export"
    ]
   },
   "outputs": [],
   "source": [
    "def upload_benchmark_docs(zip_path, config=None):\n",
    "    solution_id = config['context']['solution_id']\n",
    "    remote_source = XpmsResource.get(urn=zip_path)\n",
    "\n",
    "    lc = LocalResource(key=\"/tmp/{}/benchmark/{}/{}\".format(solution_id, str(uuid4()), remote_source.filename))\n",
    "    unpack_resource = LocalResource(urn=lc.parent_urn + \"/parent_folder\")\n",
    "    remote_source.copy(lc)\n",
    "\n",
    "    shutil.unpack_archive(lc.fullpath, unpack_resource.fullpath)\n",
    "\n",
    "    upload_files = [file for file in unpack_resource.list() if file.extension in \".pdf,.jpg,.png\"]\n",
    "    remote_folder_resource = XpmsResource.get(key=\"{}/benchmark/uploaded_files/{}\".format(solution_id, datetime.utcnow().isoformat()))\n",
    "    all_file_paths = []\n",
    "    for file in upload_files:\n",
    "        remote_upload = XpmsResource.get(urn=remote_folder_resource.urn + \"/\" + file.filename)\n",
    "        file.copy(remote_upload)\n",
    "        all_file_paths.append(remote_upload.urn)\n",
    "    exc=ExecutionVariables.get_instance(config['context'])\n",
    "    exc.set_variable(\"gt_zip\", zip_path)\n",
    "    \n",
    "    return {\"file_path\": all_file_paths}\n",
    "    \n"
   ]
  }
 ],
 "metadata": {
  "celltoolbar": "Tags",
  "kernelspec": {
   "display_name": "default_dependency_package_group",
   "language": "python",
   "name": "default_dependency_package_group"
  },
  "language_info": {
   "codemirror_mode": {
    "name": "ipython",
    "version": 3
   },
   "file_extension": ".py",
   "mimetype": "text/x-python",
   "name": "python",
   "nbconvert_exporter": "python",
   "pygments_lexer": "ipython3",
   "version": "3.6.9"
  }
 },
 "nbformat": 4,
 "nbformat_minor": 2
}
