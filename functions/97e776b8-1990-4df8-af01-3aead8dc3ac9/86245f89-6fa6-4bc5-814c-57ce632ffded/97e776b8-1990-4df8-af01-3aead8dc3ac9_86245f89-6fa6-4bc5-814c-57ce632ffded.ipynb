{
 "cells": [
  {
   "cell_type": "code",
   "execution_count": 5,
   "metadata": {
    "tags": [
     "export"
    ]
   },
   "outputs": [],
   "source": [
    "from datetime import datetime"
   ]
  },
  {
   "cell_type": "code",
   "execution_count": 15,
   "metadata": {
    "XpmsFunction_conf": {
     "export": true
    },
    "tags": [
     "export"
    ]
   },
   "outputs": [],
   "source": [
    "def retrieve_docs(config=None, **kwargs):\n",
    "    documents = kwargs.get(\"document\", [])\n",
    "    if len(documents) > 1:\n",
    "        del documents[0]\n",
    "    return dict(document=documents)"
   ]
  }
 ],
 "metadata": {
  "celltoolbar": "Tags",
  "kernelspec": {
   "display_name": "default_dependency_package_group",
   "language": "python",
   "name": "default_dependency_package_group"
  },
  "language_info": {
   "codemirror_mode": {
    "name": "ipython",
    "version": 3
   },
   "file_extension": ".py",
   "mimetype": "text/x-python",
   "name": "python",
   "nbconvert_exporter": "python",
   "pygments_lexer": "ipython3",
   "version": "3.5.2"
  }
 },
 "nbformat": 4,
 "nbformat_minor": 2
}
