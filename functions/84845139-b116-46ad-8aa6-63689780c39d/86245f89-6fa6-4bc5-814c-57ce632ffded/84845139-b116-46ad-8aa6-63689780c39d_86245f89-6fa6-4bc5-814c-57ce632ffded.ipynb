{
 "cells": [
  {
   "cell_type": "code",
   "execution_count": 5,
   "metadata": {
    "tags": [
     "export"
    ]
   },
   "outputs": [],
   "source": [
    "from datetime import datetime"
   ]
  },
  {
   "cell_type": "code",
   "execution_count": 15,
   "metadata": {
    "XpmsFunction_conf": {
     "export": true
    },
    "tags": [
     "export"
    ]
   },
   "outputs": [],
   "source": [
    "def aggregate_docs(config=None, **kwargs):\n",
    "    document = list()\n",
    "    for k, v in kwargs.items():\n",
    "        document.append(v[0].get(\"document\", {})[0])\n",
    "    return dict(document=document)"
   ]
  }
 ],
 "metadata": {
  "celltoolbar": "Tags",
  "kernelspec": {
   "display_name": "default_dependency_package_group",
   "language": "python",
   "name": "default_dependency_package_group"
  },
  "language_info": {
   "codemirror_mode": {
    "name": "ipython",
    "version": 3
   },
   "file_extension": ".py",
   "mimetype": "text/x-python",
   "name": "python",
   "nbconvert_exporter": "python",
   "pygments_lexer": "ipython3",
   "version": "3.5.2"
  }
 },
 "nbformat": 4,
 "nbformat_minor": 2
}
