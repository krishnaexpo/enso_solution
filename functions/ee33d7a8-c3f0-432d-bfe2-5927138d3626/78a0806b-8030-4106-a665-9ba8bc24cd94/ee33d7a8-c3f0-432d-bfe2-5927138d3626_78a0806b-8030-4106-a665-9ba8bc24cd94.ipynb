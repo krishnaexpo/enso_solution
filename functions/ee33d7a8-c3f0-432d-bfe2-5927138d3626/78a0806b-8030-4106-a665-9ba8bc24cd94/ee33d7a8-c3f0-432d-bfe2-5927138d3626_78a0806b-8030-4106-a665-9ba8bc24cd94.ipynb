{
 "cells": [
  {
   "cell_type": "code",
   "execution_count": 5,
   "metadata": {
    "tags": [
     "export"
    ]
   },
   "outputs": [],
   "source": [
    "from xpms_helper.executions.execution_variables import ExecutionVariables"
   ]
  },
  {
   "cell_type": "code",
   "execution_count": 15,
   "metadata": {
    "XpmsFunction_conf": {
     "export": true
    },
    "tags": [
     "export"
    ]
   },
   "outputs": [],
   "source": [
    "def benchmark_post_processing(config=None, **kwargs):\n",
    "    \n",
    "    exc=ExecutionVariables.get_instance(config['context'])\n",
    "    gt_urn = exc.get_variable(\"gt_zip\")\n",
    "    \n",
    "    return {\"gt_urn\": gt_urn, \"ref_id\": config['context']['ref_id'], \"plot_bbox\": True}\n",
    "    \n",
    "\n"
   ]
  }
 ],
 "metadata": {
  "celltoolbar": "Tags",
  "kernelspec": {
   "display_name": "default_dependency_package_group",
   "language": "python",
   "name": "default_dependency_package_group"
  },
  "language_info": {
   "codemirror_mode": {
    "name": "ipython",
    "version": 3
   },
   "file_extension": ".py",
   "mimetype": "text/x-python",
   "name": "python",
   "nbconvert_exporter": "python",
   "pygments_lexer": "ipython3",
   "version": "3.6.9"
  }
 },
 "nbformat": 4,
 "nbformat_minor": 2
}
