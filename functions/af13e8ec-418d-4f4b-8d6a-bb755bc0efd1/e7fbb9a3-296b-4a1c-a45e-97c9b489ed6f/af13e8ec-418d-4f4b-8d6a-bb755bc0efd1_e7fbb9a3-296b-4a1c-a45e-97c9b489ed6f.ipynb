{
  "cells": [
    {
      "cell_type": "code",
      "metadata": {},
      "source": [
        "from xpms_file_storage.file_handler import XpmsResourceFactory, XpmsResource, LocalResource\n",
        "import pandas as pd\n",
        "from datetime import datetime\n",
        "import os\n",
        "from xpms_storage.utils import get_env\n",
        "\n",
        "def hma_check_feedback_file_exists(config=None, **objects):\n",
        "    NAMESPACE = get_env(\"NAMESPACE\", \"claims-audit\", False)\n",
        "\n",
        "    file_path = \"minio://{0}/claimsaudit-ingestfiles/feedback-inputs\".format(NAMESPACE)\n",
        "    xr = XpmsResource()\n",
        "    minio_resource = xr.get(urn=file_path)\n",
        "    if minio_resource.exists():\n",
        "        all_files_list = minio_resource.list()\n",
        "        files_list = [(path.filename) for path in all_files_list if \".csv\" in path.fullpath]\n",
        "        if len(files_list) == 0:\n",
        "\n",
        "            return {\n",
        "                \"file_path\": \"na\"\n",
        "            }\n",
        "        # elif len(files_list) > 1:\n",
        "        #     return {\n",
        "        #         'message': 'More than one file present in ' + file_path\n",
        "        #     }\n",
        "        else:\n",
        "            file_name = files_list[0]\n",
        "            local_path = '/tmp/local_' + file_name\n",
        "            lr = LocalResource(key=local_path)\n",
        "            xrm = XpmsResource()\n",
        "            mr = xrm.get(urn=file_path + '/' + file_name)\n",
        "            mr.copy(lr)\n",
        "            backup_path = \"minio://{0}/claimsaudit-ingestfiles/feedback-inprogress\".format(NAMESPACE)\n",
        "\n",
        "            backup_filename = str(int(datetime.now().timestamp())) + '_' + file_name\n",
        "\n",
        "            filename, file_extension = os.path.splitext(file_name)\n",
        "\n",
        "            backup_rm = XpmsResource()\n",
        "            backup_mr = backup_rm.get(urn=backup_path + '/' + backup_filename)\n",
        "            mr.copy(backup_mr)\n",
        "            mr.delete()\n",
        "            return {\n",
        "\n",
        "                \"file_path\": backup_path + '/' + backup_filename\n",
        "\n",
        "            }\n",
        "\n",
        "    else:\n",
        "        return {\n",
        "\n",
        "            \"file_path\": \"na\"\n",
        "        }\n"
      ],
      "outputs": [],
      "execution_count": null
    }
  ],
  "metadata": {
    "anaconda-cloud": {},
    "kernelspec": {
      "display_name": "Python 3",
      "language": "python",
      "name": "python3"
    },
    "language_info": {
      "codemirror_mode": {
        "name": "ipython",
        "version": 3
      },
      "file_extension": ".py",
      "mimetype": "text/x-python",
      "name": "python",
      "nbconvert_exporter": "python",
      "pygments_lexer": "ipython3",
      "version": "3.6.1"
    }
  },
  "nbformat": 4,
  "nbformat_minor": 1
}