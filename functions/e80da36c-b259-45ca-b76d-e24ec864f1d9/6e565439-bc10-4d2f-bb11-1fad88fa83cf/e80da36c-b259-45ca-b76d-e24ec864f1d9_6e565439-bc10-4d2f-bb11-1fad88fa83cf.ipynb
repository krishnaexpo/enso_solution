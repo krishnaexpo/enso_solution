{
 "cells": [
  {
   "cell_type": "code",
   "execution_count": 5,
   "metadata": {
    "tags": [
     "export"
    ]
   },
   "outputs": [],
   "source": [
    "from datetime import datetime"
   ]
  },
  {
   "cell_type": "code",
   "execution_count": 15,
   "metadata": {
    "XpmsFunction_conf": {
     "export": true
    },
    "tags": [
     "export"
    ]
   },
   "outputs": [],
   "source": [
    "def transform_process_feedback(config=None, request_type=None, objects=[], **kwargs):\n",
    "    data = dict(request_type=request_type, objects=objects)\n",
    "    for i in kwargs:\n",
    "        if 'root_id' in kwargs[i][0]:\n",
    "            root_id = kwargs[i][0]['root_id']\n",
    "        else:\n",
    "            root_id = kwargs[i][0]['document'][0]['root_id']\n",
    "        data.update({'root_id': root_id, 'doc_id': root_id})\n",
    "    return data"
   ]
  }
 ],
 "metadata": {
  "celltoolbar": "Tags",
  "kernelspec": {
   "display_name": "default_dependency_package_group",
   "language": "python",
   "name": "default_dependency_package_group"
  },
  "language_info": {
   "codemirror_mode": {
    "name": "ipython",
    "version": 3
   },
   "file_extension": ".py",
   "mimetype": "text/x-python",
   "name": "python",
   "nbconvert_exporter": "python",
   "pygments_lexer": "ipython3",
   "version": "3.5.2"
  }
 },
 "nbformat": 4,
 "nbformat_minor": 2
}
